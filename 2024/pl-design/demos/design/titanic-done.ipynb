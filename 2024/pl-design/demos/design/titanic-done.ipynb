{
 "cells": [
  {
   "cell_type": "code",
   "execution_count": null,
   "id": "d8987362-df28-4fbe-8f12-1d2c6498a9ff",
   "metadata": {},
   "outputs": [],
   "source": [
    "import pandas as pd\n",
    "import numpy as np"
   ]
  },
  {
   "cell_type": "code",
   "execution_count": null,
   "id": "01192a58-f778-428d-b77f-3df73b820ef1",
   "metadata": {},
   "outputs": [],
   "source": [
    "tn = pd.read_csv(\"titanic.csv\")\n",
    "tn.head()"
   ]
  },
  {
   "cell_type": "code",
   "execution_count": null,
   "id": "a26066f2-61ce-429d-9c55-38cef160dc9a",
   "metadata": {},
   "outputs": [],
   "source": [
    "tn.rename({\"PassengerId\":\"id\", \"Survived\":\"survived\", \"Pclass\":\"class\", \"Sex\":\"sex\"}, axis=\"columns\") \\\n",
    "  .set_index(\"id\") \\\n",
    "  .pipe(lambda df: df[[\"survived\", \"class\", \"sex\"]]) \\\n",
    "  .head()"
   ]
  },
  {
   "cell_type": "code",
   "execution_count": null,
   "id": "8802e53b-2656-49b7-8c40-2162f5fa9b56",
   "metadata": {},
   "outputs": [],
   "source": [
    "withage = tn[tn[\"Age\"].notna()]\n",
    "withage \\\n",
    "  .groupby((withage[\"Age\"]/10).astype(int)).agg({\"Survived\":\"sum\", \"PassengerId\":\"count\"}) \\\n",
    "  .rename({\"PassengerId\":\"Total\"},axis=1) \\\n",
    "  .pipe(lambda df: df.assign(Rate=(df[\"Survived\"]/df[\"Total\"]).round(2)))"
   ]
  },
  {
   "cell_type": "code",
   "execution_count": null,
   "id": "e5e31e7d-9f38-4de9-95f2-c4d892c33a57",
   "metadata": {},
   "outputs": [],
   "source": [
    "def bydecade(df, col):\n",
    "  return df.groupby((df[col]/10).astype(int)).count()\n",
    "\n",
    "bydecade(tn.dropna(), \"Age\")"
   ]
  },
  {
   "cell_type": "code",
   "execution_count": null,
   "id": "2a1d1db8-1d3e-45a1-a9a7-f225a927ca89",
   "metadata": {},
   "outputs": [],
   "source": [
    "df = pd.DataFrame({'row': ['a', 'a', 'b', 'b'],\n",
    "                   'col': ['x', 'y', 'x', 'y'],\n",
    "                   'val': [1, 2, 3, 4 ] })\n",
    "df"
   ]
  },
  {
   "cell_type": "code",
   "execution_count": null,
   "id": "77cf0e0f-50fc-45fe-95e9-acfb577b609d",
   "metadata": {},
   "outputs": [],
   "source": [
    "pd.pivot(df, index=\"row\", columns=\"col\", values=\"val\")"
   ]
  }
 ],
 "metadata": {
  "kernelspec": {
   "display_name": "Python 3 (ipykernel)",
   "language": "python",
   "name": "python3"
  },
  "language_info": {
   "codemirror_mode": {
    "name": "ipython",
    "version": 3
   },
   "file_extension": ".py",
   "mimetype": "text/x-python",
   "name": "python",
   "nbconvert_exporter": "python",
   "pygments_lexer": "ipython3",
   "version": "3.12.4"
  }
 },
 "nbformat": 4,
 "nbformat_minor": 5
}
